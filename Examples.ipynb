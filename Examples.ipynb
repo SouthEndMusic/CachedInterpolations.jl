{
 "cells": [
  {
   "cell_type": "markdown",
   "metadata": {},
   "source": [
    "## Examples"
   ]
  },
  {
   "cell_type": "code",
   "execution_count": null,
   "metadata": {},
   "outputs": [],
   "source": [
    "using Pkg\n",
    "Pkg.activate(\".\")\n",
    "using SmoothInterpolation\n",
    "using Plots\n",
    "using Random\n",
    "\n",
    "Random.seed!(2);"
   ]
  },
  {
   "cell_type": "code",
   "execution_count": null,
   "metadata": {},
   "outputs": [],
   "source": [
    "u = rand(10)\n",
    "t = cumsum(rand(10))\n",
    "\n",
    "itp = SmoothedLinearInterpolation(u, t; extrapolate = true)"
   ]
  },
  {
   "cell_type": "code",
   "execution_count": null,
   "metadata": {},
   "outputs": [],
   "source": [
    "plot(itp, label = \"Smoothed Linear Interpolation\")\n",
    "title!(\"Randomly spaced input\")\n",
    "scatter!(itp.t, itp.u, label = \"Input\")"
   ]
  },
  {
   "cell_type": "code",
   "execution_count": null,
   "metadata": {},
   "outputs": [],
   "source": [
    "# t = Float64[1, 2, 3, 5, 6, 7, 9, 10, 11, 13]\n",
    "# itp = SmoothedLinearInterpolation(u,t)\n",
    "\n",
    "# plot(itp, label = \"Smoothed Linear Interpolation\")\n",
    "# title!(\"Some equispaced points\")\n",
    "# scatter!(itp.t, itp.u, label = \"Input\")"
   ]
  },
  {
   "cell_type": "code",
   "execution_count": null,
   "metadata": {},
   "outputs": [],
   "source": [
    "t_eval = range(t[1], t[end], 1000)\n",
    "Δt = t_eval[2] - t_eval[1]\n",
    "u_eval = itp.(t_eval)\n",
    "V = 0.5 * (u_eval[1:end-1] + u_eval[2:end]) * Δt\n",
    "V = cumsum(V)\n",
    "pushfirst!(V, 0)\n",
    "plot(V, t_eval, label = \"Numerical integral inverse\")\n",
    "title!(\"Integral inverse\")\n",
    "\n",
    "itp_inv = SmoothedLinearInterpolationIntInv(itp)\n",
    "scatter!(itp_inv.t, itp_inv.u, label = \"Known points on integral inverse\")\n",
    "plot!(itp_inv, label = \"Exact integral inverse\")"
   ]
  }
 ],
 "metadata": {
  "kernelspec": {
   "display_name": "Julia 1.10.3",
   "language": "julia",
   "name": "julia-1.10"
  },
  "language_info": {
   "file_extension": ".jl",
   "mimetype": "application/julia",
   "name": "julia",
   "version": "1.10.3"
  }
 },
 "nbformat": 4,
 "nbformat_minor": 2
}
