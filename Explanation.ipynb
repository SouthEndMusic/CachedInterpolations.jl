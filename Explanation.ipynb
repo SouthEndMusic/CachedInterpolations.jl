{
 "cells": [
  {
   "cell_type": "markdown",
   "metadata": {},
   "source": [
    "## Introduction"
   ]
  },
  {
   "cell_type": "markdown",
   "metadata": {},
   "source": [
    "I didn't like the options available in `DataInterpolations.jl`, so I came up with my own concept that mainly keeps the linear interpolation intact, but rounds of the corners between the linear sections. The main recipe is this, per corner:\n",
    "- Add 2 points on either side close to the corner, on their respectilve linear sections\n",
    "- Remove the corner point\n",
    "- Connect the 2 new points with a spline curve"
   ]
  },
  {
   "cell_type": "markdown",
   "metadata": {},
   "source": [
    "\n",
    "The advantage of the spline curve over a polynomial one is that the connection can be $C^1$ smooth (i.e. the smoothed curve and its derivative are continuous) without the possibility of introducing large oscillations with the use of degree 3 polynomials."
   ]
  },
  {
   "cell_type": "markdown",
   "metadata": {},
   "source": [
    "## Derivation"
   ]
  },
  {
   "cell_type": "markdown",
   "metadata": {
    "vscode": {
     "languageId": "plaintext"
    }
   },
   "source": [
    "### Linear interpolation"
   ]
  },
  {
   "cell_type": "markdown",
   "metadata": {
    "vscode": {
     "languageId": "plaintext"
    }
   },
   "source": [
    "Given is the set of points $(\\mathbf{p}_i)_{i=1}^n$ in $\\mathbb{R}^2$, where we write $t$ and $u$ for the respective coordinates. We assume that the $t_i$ are strictly increasing. Linear interpolation of these points is then simply given by\n",
    "\n",
    "$$\n",
    "    u|_{[t_{i-1}, t_i]}(t) = \\frac{u_i-u_{i-1}}{t_i-t_{i-1}}(t-t_{i-1}).\n",
    "$$"
   ]
  },
  {
   "cell_type": "markdown",
   "metadata": {},
   "source": [
    "### Spline substitution"
   ]
  },
  {
   "cell_type": "markdown",
   "metadata": {},
   "source": [
    "For the construction of the smoothing we consider the consecutive points\n",
    "\n",
    "$$\n",
    "    \\mathbf{p}_{i-1}, \\mathbf{p}_{i}, \\mathbf{p}_{i+1}.\n",
    "$$\n",
    "\n",
    "Now we disregard $\\mathbf{p}_i$, and introduce 2 new points\n",
    "\n",
    "\\begin{align*}\n",
    "    \\mathbf{p}_{i-\\frac{\\lambda}{2}} =&\\; \\mathbf{p}_i - \\frac{\\lambda}{2}\\Delta\\mathbf{p}_i \\\\\n",
    "    \\mathbf{p}_{i+\\frac{\\lambda}{2}} =&\\; \\mathbf{p}_i + \\frac{\\lambda}{2}\\Delta\\mathbf{p}_{i+1}\n",
    "\\end{align*}\n",
    "\n",
    "where $\\Delta\\mathbf{p}_i = \\mathbf{p}_i - \\mathbf{p}_{i-1}$ and the role of the parameter $\\lambda \\in [0,1]$ will be explained later."
   ]
  },
  {
   "cell_type": "markdown",
   "metadata": {},
   "source": [
    "We want to connect $\\mathbf{p}_{i-\\frac{\\lambda}{2}}$ and $\\mathbf{p}_{i+\\frac{\\lambda}{2}}$ with a smooth parametric curve \n",
    "$$\n",
    "    \\mathbf{C}_i : [0,1] \\rightarrow \\mathbb{R}^2\n",
    "$$\n",
    "\n",
    "such that:\n",
    "\n",
    "- The connection can be expressed as \n",
    "\n",
    "$$\n",
    "    u_i : \\left[t_{i - \\frac{\\lambda}{2}}, t_{i + \\frac{\\lambda}{2}}\\right] \\rightarrow \\mathbb{R},\n",
    "$$\n",
    "\n",
    " i.e. the $t$ component of the curve must be invertible.\n",
    "\n",
    "- The connection is continuous, i.e.\n",
    "\n",
    "$$\n",
    "    \\mathbf{C}_i(0) = \\mathbf{p}_{i-\\frac{\\lambda}{2}}, \\quad \\mathbf{C}_i(1) = \\mathbf{p}_{i+\\frac{\\lambda}{2}}.\n",
    "$$\n",
    "\n",
    "- The derivative of the connection is continuous, i.e.\n",
    "$$\n",
    "    \\mathbf{C}'_i(0) \\propto \\Delta\\mathbf{p}_i, \\quad \\mathbf{C}'_i(1) \\propto \\Delta\\mathbf{p}_{i+1}.\n",
    "$$"
   ]
  },
  {
   "cell_type": "markdown",
   "metadata": {},
   "source": [
    "<span style=\"color:red;\">To do: motivate the construction of Cn below.</span>"
   ]
  },
  {
   "cell_type": "markdown",
   "metadata": {},
   "source": [
    "\\begin{align*}\n",
    "    \\mathbf{C}_{i-\\frac{\\lambda}{2}}(s) = (1-s)\\mathbf{p}_{i-\\frac{\\lambda}{2}} + s\\mathbf{p}_i \\\\\n",
    "    \\mathbf{C}_{i+\\frac{\\lambda}{2}}(s) = (1-s)\\mathbf{p}_i + s\\mathbf{p}_{i+\\frac{\\lambda}{2}}\n",
    "\\end{align*}"
   ]
  },
  {
   "cell_type": "markdown",
   "metadata": {},
   "source": [
    "\\begin{align*}\n",
    "    \\mathbf{C}_i(s) &=& (1-s)\\mathbf{C}_{i-\\frac{\\lambda}{2}}(s) + s\\mathbf{C}_{i+\\frac{\\lambda}{2}}(s) \\\\\n",
    "    &=&  (1-s)^2\\mathbf{p}_{i-\\frac{\\lambda}{2}} + 2s(1-s)\\mathbf{p}_i + s^2\\mathbf{p}_{i+\\frac{\\lambda}{2}} \\\\\n",
    "    &=& \\frac{\\lambda}{2}(\\Delta \\mathbf{p}_{i+1} - \\Delta \\mathbf{p}_i)s^2 + \\lambda \\Delta \\mathbf{p}_i s + \\mathbf{p}_{i-\\frac{\\lambda}{2}} \n",
    "\\end{align*}"
   ]
  },
  {
   "cell_type": "markdown",
   "metadata": {},
   "source": [
    "Note that the second formulation tells us that $C_i$ is a convex combination of $\\mathbf{p}_{i-\\frac{\\lambda}{1}}, \\mathbf{p}_i, \\mathbf{p}_{i + \\frac{\\lambda}{2}}$ for all $s \\in [0,1]$ and thus always is in the convex hull of these points."
   ]
  },
  {
   "cell_type": "markdown",
   "metadata": {},
   "source": [
    "### Writing spline as a function $u(t)$"
   ]
  },
  {
   "cell_type": "markdown",
   "metadata": {},
   "source": [
    "To write the spline curve as a function $u(t)$, we first need to obtain $s$ from $t$:\n",
    "\n",
    "$$\n",
    "    T_i(s) = \\frac{1}{2}\\lambda(\\Delta t_{i+1} - \\Delta t_i)s^2 + \\lambda\\Delta t_i s + t_{i-\\frac{\\lambda}{2}} = t.\n",
    "$$"
   ]
  },
  {
   "cell_type": "markdown",
   "metadata": {},
   "source": [
    "This yields\n",
    "\n",
    "$$  \n",
    "    S_i(t) = \\frac{\n",
    "            -\\lambda \\Delta t_i + \\sqrt{\\lambda^2\\Delta t_i^2 + 2\\lambda (\\Delta t_{i+1} - \\Delta t_i)\\left(t - t_{i-\\frac{\\lambda}{2}}\\right)}\n",
    "        }{\n",
    "            \\lambda (\\Delta t_{i+1} - \\Delta t_i)\n",
    "        },\n",
    "$$"
   ]
  },
  {
   "cell_type": "markdown",
   "metadata": {},
   "source": [
    "or, in the degenerate case that $\\Delta t_{i+1} - \\Delta t_i = 0$ (i.e. the 3 points are equally spaced),\n",
    "\n",
    "$$\n",
    "    S_i(t) = \\frac{1}{\\lambda}\\frac{t - t_{i - \\frac{\\lambda}{2}}}{\\Delta t_i}.\n",
    "$$\n",
    "\n",
    "Note that $\\Delta t_i \\ne 0$ by the assumption that the $t_n$ are strictly increasing, and we later revisit the question of why in practice $\\lambda = 0$ is not a problem."
   ]
  },
  {
   "cell_type": "markdown",
   "metadata": {},
   "source": [
    "We conclude:\n",
    "\n",
    "$$\n",
    " u_i(t) = \\frac{\\lambda}{2}(\\Delta u_{i+1} - \\Delta u_i)S_i(t)^2 + \\lambda \\Delta u_i S_i(t) + u_{i - \\frac{\\lambda}{2}}.\n",
    "$$"
   ]
  },
  {
   "cell_type": "markdown",
   "metadata": {},
   "source": [
    "### Extrapolation\n",
    "\n",
    "We define $\\Delta \\mathbf{p}_{1} = \\Delta \\mathbf{p}_{2}$ and $\\Delta \\mathbf{p}_{n+1} = \\Delta \\mathbf{p}_n$. This yields\n",
    "\n",
    "$$\n",
    "    u_1(t) = \\frac{\\Delta u_2 }{\\Delta t_2}(t - t_1) + u_1, \\quad t \\in \\left[t_1, t_{1 + \\frac{\\lambda}{2}}\\right]\n",
    "$$\n",
    "\n",
    "and\n",
    "\n",
    "$$\n",
    "    u_n(t) = \\frac{\\Delta u_n}{\\Delta t_n}(t - t_n) + u_n, \\quad t \\in \\left[t_{n - \\frac{\\lambda}{2}}, t_n\\right].\n",
    "$$ \n",
    "\n",
    "This means that the interpolation is linear towards its boundaries and thus can be smoothly extended linearly."
   ]
  },
  {
   "cell_type": "markdown",
   "metadata": {},
   "source": [
    "### Evaluating the interpolation\n",
    "\n",
    "Once it is determined that the input $t$ is in the interval $[t_{i-1}, t_i]$, the interpolation is evalued as follows:\n",
    "\n",
    "\\begin{align*}\n",
    "    u|_{[t_{i-1}, t_i]}(t) = \n",
    "    \\begin{cases}\n",
    "        u_{i-1}(t) &\\text{if }& t_{i-1} \\leq t \\leq t_{i - 1 + \\frac{\\lambda}{2}} \\\\\n",
    "        u_{i-1} + \\frac{\\Delta u_i}{\\Delta t_i}(t - t_{i-1}) &\\text{if }& t_{i - 1 + \\frac{\\lambda}{2}} \\leq t \\leq t_{i - \\frac{\\lambda}{2}} \\\\\n",
    "        u_i(t) &\\text{if }& t_{i - \\frac{\\lambda}{2}} \\leq t \\leq t_i\n",
    "    \\end{cases}\n",
    "\\end{align*}"
   ]
  },
  {
   "cell_type": "markdown",
   "metadata": {},
   "source": [
    "## Integration"
   ]
  },
  {
   "cell_type": "markdown",
   "metadata": {},
   "source": [
    "We are interested in integrating the smoothed interpolation from the start to some $t > t_1$. To compute this efficiently we need to know the integral of the interpolation over the various intervals. More precisely:\n",
    "\n",
    "- For the linear sections we obtain\n",
    "\n",
    "$$\n",
    "    \\int_{t_{i-1+\\frac{\\lambda}{2}}}^{t_{i-\\frac{\\lambda}{2}}} \n",
    "         u_{i-1} + \\frac{\\Delta u_i}{\\Delta t_i}(\\tau - t_{i-1})\n",
    "    \\text{d}\\tau\n",
    "    =\n",
    "    (1 - \\lambda)\\Delta t_i \n",
    "    \\left[\n",
    "        u_{i-1}\n",
    "        +\n",
    "        \\frac{1}{2}(1 - \\lambda) \\Delta u_i\n",
    "    \\right].\n",
    "$$\n",
    "\n",
    "- For the spline sections we obtain\n",
    "\n",
    "\\begin{align*}\n",
    "    \\int_{t_{i-\\frac{\\lambda}{2}}}^{t_{i + \\frac{\\lambda}{2}}} u_i(\\tau)\\text{d}\\tau\n",
    "    &=&\n",
    "    \\int_0^1 T'_i(s)u_i(T_i(s))\\text{d}s \\\\ \n",
    "    &=&\n",
    "    \\int_0^1\n",
    "        \\left[\\lambda(\\Delta t_{i+1} - \\Delta t_i)s + \\lambda\\Delta t_i\\right]\n",
    "        \\left[\\frac{\\lambda}{2}(\\Delta u_{i+1} - \\Delta u_i)s^2 + \\lambda \\Delta u_i s + u_{i - \\frac{\\lambda}{2}}\\right]\n",
    "    \\text{d}s \\\\\n",
    "    &=& \\frac{\\lambda^2}{24}\n",
    "    \\left[\n",
    "        \\Delta t_i \\left(-3\\Delta u_i + \\Delta u_{i+1}\\right) +\n",
    "        \\Delta t_{i+1} \\left(-\\Delta u_i + 3 \\Delta u_{i+1}\\right)\n",
    "    \\right]\n",
    "    +\n",
    "    \\frac{\\lambda}{2}(\\Delta t_i + \\Delta t_{i+1})u_i.\n",
    "\\end{align*}"
   ]
  },
  {
   "cell_type": "markdown",
   "metadata": {},
   "source": [
    "We now define the new set of points $(\\tilde{\\mathbf{p}}_j)_{j=1}^{2n}$ given by all the $\\mathbf{p}_{i - \\frac{\\lambda}{2}}, \\mathbf{p}_{i+ \\frac{\\lambda}{2}}$ and the original boundary points, sorted by $t$. Then for $t \\in \\left[\\tilde{t}_{J-1}, \\tilde{t}_J\\right]$ we have\n",
    "\n",
    "\\begin{align*}\n",
    "    U(t) = \\int_{t_1}^t u(\\tau)\\text{d}\\tau = \\sum_{j = 2}^{J-1} \\int_{\\tilde{t}_{j-1}}^{\\tilde{t}_j} u(\\tau)\\text{d}\\tau + \\int_{\\tilde{t}_{J-1}}^t u(\\tau)\\text{d}\\tau,\n",
    "\\end{align*}\n",
    "\n",
    "Where the summed integrals are given by the values above. For the last integral:\n",
    "\n",
    "- If $J$ is odd then the last integral is of a linear section:\n",
    "\n",
    "$$\n",
    "    \\int_{\\tilde{t}_{J-1}}^t u(\\tau)\\text{d}\\tau = \\left((t-t_I) - \\frac{\\lambda}{2}\\Delta t_{I+1}\\right)u_I\n",
    "     + \n",
    "     \\frac{1}{2}\\frac{\\Delta u_{I+1}}{\\Delta t_{I+1}}\\left[(t-t_I)^2 - \\frac{\\lambda^2}{4}\\Delta t_{I+1}^2\\right]\n",
    "$$\n",
    "\n",
    "where $I = \\frac{J-1}{2}$.\n",
    "\n",
    "- If $J$ is even the last integral is of a spline section:\n",
    "\n",
    "\\begin{align*}\n",
    "    \\int_{\\tilde{t}_{J-1}}^t u_\\frac{J}{2}(\\tau)\\text{d}\\tau &=& \n",
    "    \\int_0^{S_\\frac{J}{2}(t)} T'_\\frac{J}{2}(s)u_\\frac{J}{2}\\left(T_\\frac{J}{2}(s)\\right)\\text{d}s \\\\\n",
    "    &=&\n",
    "    \\int_0^{S_I(t)}\n",
    "        \\left[\\lambda(\\Delta t_{I+1} - \\Delta t_I)s + \\lambda\\Delta t_I\\right]\n",
    "        \\left[\\frac{\\lambda}{2}(\\Delta u_{I+1} - \\Delta u_I)s^2 + \\lambda \\Delta u_I s + u_{I - \\frac{\\lambda}{2}}\\right]\n",
    "    \\text{d}s\n",
    "\\end{align*}\n",
    "\n",
    "where $I = \\frac{J}{2}$.\n",
    "\n",
    "\n",
    "<span style=\"color:red;\">To do: Work out the above integral.</span>"
   ]
  },
  {
   "cell_type": "markdown",
   "metadata": {},
   "source": [
    "## Inverting the integral\n",
    "\n",
    "We are interested in inverting $U(t)$ as defined above. Note that $U(t)$ is invertible if $u(t)$ is positive for all $t > t_1$. If we define\n",
    "\n",
    "$$\n",
    "    U_J = \\int_{t_1}^{\\tilde{t}_J}u(\\tau)\\text{d}\\tau = \\sum_{j = 2}^{J} \\int_{\\tilde{t}_{j-1}}^{\\tilde{t}_j} u(\\tau)\\text{d}\\tau,\n",
    "$$\n",
    "\n",
    "then solving $U(t) = V$ for $t$ where $V \\in [U_{J-1}, U_J]$ amounts to solving\n",
    "\n",
    "$$\n",
    "    \\int_{\\tilde{t}_{J-1}}^t u(\\tau)\\text{d}\\tau = V - U_{J-1}.\n",
    "$$\n",
    "\n",
    "For linear sections this yields a quadratic equation in $t$ with solution\n",
    "\n",
    "$$\n",
    "    t = t_I + \\left[-\\frac{u_I}{\\Delta u_{I+1}} + \\text{sign}\\left(\\frac{u_{I+1}}{u_{I+1}}\\right)\\sqrt{\\left(\\frac{u_I}{\\Delta u_{I+1}}\\right)^2 +\\lambda\\left(\\frac{u_I}{\\Delta u_{I+1}} + \\frac{\\lambda}{4}\\right) +2\\frac{V - U_{J-1}}{\\Delta t_{I+1}\\Delta u_{I+1}}}\\right]\\Delta t_{I+1}.\n",
    "$$\n",
    "\n",
    " For spline sections this leads to a quartic equation in $s$:\n",
    "\n",
    " \\begin{align*}\n",
    "    3(\\Delta t_{I+1} - \\Delta t_I)(\\Delta u_{I+1} - \\Delta u_I)s^4 + \\\\\n",
    "    4\\Delta t_I (\\Delta u_{I+1} - \\Delta u_I) s^3 + \\\\\n",
    "    12(\\Delta t_{I+1} - \\Delta t_I)\\left(\\Delta u_I + \\frac{u_{I - \\frac{\\lambda}{2}}}{\\lambda}\\right)s^2 + \\\\\n",
    "    24 \\Delta u_I \\left(\\Delta u_I + \\frac{u_{I - \\frac{\\lambda}{2}}}{\\lambda}\\right) s + \\\\\n",
    "    - \\frac{24}{\\lambda^2}(V - U_{J-1}) = 0\n",
    " \\end{align*}\n",
    " \n",
    " \n",
    "This quartic equation can be solved with the [quartic formula](https://en.wikipedia.org/wiki/Quartic_function#General_formula_for_roots).\n",
    "\n",
    "[Quartic equation at Wolfram Alpha](https://www.wolframalpha.com/input?i=integrate+%28lambda*%28t_2+-+t_1%29*s+%2B+lambda*t_1%29*%28lambda%2F2+*+%28u_2+-+u_1%29*s%5E2+%2B+lambda*u_1+%2B+u_3%29+ds+from+0+to+S)"
   ]
  },
  {
   "cell_type": "markdown",
   "metadata": {},
   "source": [
    "## Examples"
   ]
  },
  {
   "cell_type": "code",
   "execution_count": null,
   "metadata": {},
   "outputs": [],
   "source": [
    "using Pkg\n",
    "Pkg.activate(\".\")\n",
    "using SmoothInterpolation\n",
    "using Plots\n",
    "using Random\n",
    "\n",
    "Random.seed!(2);"
   ]
  },
  {
   "cell_type": "code",
   "execution_count": null,
   "metadata": {},
   "outputs": [],
   "source": [
    "u = rand(10)\n",
    "t = cumsum(rand(10))\n",
    "\n",
    "itp = SmoothedLinearInterpolation(u, t; extrapolate = true)"
   ]
  },
  {
   "cell_type": "code",
   "execution_count": null,
   "metadata": {},
   "outputs": [],
   "source": [
    "plot(itp, label = \"Smoothed Linear Interpolation\")\n",
    "title!(\"Randomly spaced input\")\n",
    "scatter!(itp.t, itp.u, label = \"Input\")"
   ]
  },
  {
   "cell_type": "code",
   "execution_count": null,
   "metadata": {},
   "outputs": [],
   "source": [
    "# t = Float64[1, 2, 3, 5, 6, 7, 9, 10, 11, 13]\n",
    "# itp = SmoothedLinearInterpolation(u,t)\n",
    "\n",
    "# plot(itp, label = \"Smoothed Linear Interpolation\")\n",
    "# title!(\"Some equispaced points\")\n",
    "# scatter!(itp.t, itp.u, label = \"Input\")"
   ]
  },
  {
   "cell_type": "code",
   "execution_count": null,
   "metadata": {},
   "outputs": [],
   "source": [
    "t_eval = range(t[1], t[end], 1000)\n",
    "Δt = t_eval[2] - t_eval[1]\n",
    "u_eval = itp.(t_eval)\n",
    "V = 0.5 * (u_eval[1:end-1] + u_eval[2:end]) * Δt\n",
    "V = cumsum(V)\n",
    "pushfirst!(V, 0)\n",
    "plot(V, t_eval, label = \"Numerical integral inverse\")\n",
    "title!(\"Integral inverse\")\n",
    "\n",
    "itp_inv = SmoothedLinearInterpolationIntInv(itp)\n",
    "scatter!(itp_inv.t, itp_inv.u, label = \"Known points on integral inverse\")\n",
    "plot!(itp_inv, label = \"Exact integral inverse\")"
   ]
  }
 ],
 "metadata": {
  "kernelspec": {
   "display_name": "Julia 1.10.3",
   "language": "julia",
   "name": "julia-1.10"
  },
  "language_info": {
   "file_extension": ".jl",
   "mimetype": "application/julia",
   "name": "julia",
   "version": "1.10.3"
  }
 },
 "nbformat": 4,
 "nbformat_minor": 2
}
